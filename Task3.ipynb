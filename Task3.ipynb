{
 "cells": [
  {
   "cell_type": "markdown",
   "metadata": {},
   "source": [
    "<h2 align=\"center\"> Task 3 </h2>"
   ]
  },
  {
   "cell_type": "markdown",
   "metadata": {},
   "source": [
    "##### Imports"
   ]
  },
  {
   "cell_type": "code",
   "execution_count": 2,
   "metadata": {},
   "outputs": [],
   "source": [
    "from tkinter import Tk\n",
    "from tkinter import ttk\n",
    "from tkinter import messagebox\n",
    "from tkinter import *\n",
    "import numpy as np\n",
    "import pandas as pd\n",
    "from sklearn.preprocessing import OrdinalEncoder\n",
    "from sklearn.model_selection import train_test_split\n",
    "from sklearn.preprocessing import MinMaxScaler\n",
    "from sklearn import svm\n",
    "import matplotlib.pyplot as plt"
   ]
  },
  {
   "cell_type": "markdown",
   "metadata": {},
   "source": [
    "##### Initialize Weights and Biases "
   ]
  },
  {
   "cell_type": "code",
   "execution_count": 3,
   "metadata": {},
   "outputs": [],
   "source": [
    "def init_weights(features, neurons, layers, classes):\n",
    "    weights_in = np.random.rand(neurons, features)\n",
    "    weights_of_hidden  = np.random.rand(neurons,neurons, layers-1)\n",
    "    weights_out = np.random.rand(classes, neurons)\n",
    "\n",
    "    weights = np.array()\n",
    "    np.append(weights, weights_in)\n",
    "    np.append(weights, weights_of_hidden)\n",
    "    np.append(weights, weights_out)\n",
    "\n",
    "    bias = np.random.rand(neurons, 1, layers)\n",
    "    bias_out = np.random.rand(classes, 1)\n",
    "    np.append(bias, bias_out)\n",
    "\n",
    "    return weights, bias"
   ]
  },
  {
   "cell_type": "markdown",
   "metadata": {},
   "source": [
    "##### Sigmoid activation function"
   ]
  },
  {
   "cell_type": "code",
   "execution_count": 4,
   "metadata": {},
   "outputs": [],
   "source": [
    "def sigmoid(X):\n",
    "    return 1/1+np.exp(-X)"
   ]
  },
  {
   "cell_type": "markdown",
   "metadata": {},
   "source": [
    "##### Forward Step"
   ]
  },
  {
   "cell_type": "code",
   "execution_count": 5,
   "metadata": {},
   "outputs": [],
   "source": [
    "def forward_step(weights, bias, X, activation):\n",
    "    Z = weights.dot(X)+bias\n",
    "    if activation == 1:\n",
    "        return sigmoid(Z), Z \n",
    "    else :\n",
    "        return np.tanh(Z), Z"
   ]
  },
  {
   "cell_type": "markdown",
   "metadata": {},
   "source": [
    "##### Forward propagation"
   ]
  },
  {
   "cell_type": "code",
   "execution_count": 6,
   "metadata": {},
   "outputs": [],
   "source": [
    "def forward_propagation(weights, bias, x, activation, layers):\n",
    "    A, Z = forward_step(weights[0], bias, x, activation)\n",
    "    A_s, Z_s = np.array(), np.array()\n",
    "    A_prev = A\n",
    "\n",
    "    np.append(A_s, A_prev)\n",
    "    np.append(Z_s, Z)\n",
    "\n",
    "    for i in range(1, layers):\n",
    "        A_prev = A\n",
    "        A, Z = forward_step(weights[i], bias[i], A_prev, activation)\n",
    "        np.append(A_s, A)\n",
    "        np.append(Z_s, Z)\n",
    "\n",
    "    y, Z = forward_step(weights[layers], bias[layers], A, activation)\n",
    "    np.append(Z_s, Z)\n",
    "     \n",
    "    return y, A_s, Z_s"
   ]
  },
  {
   "cell_type": "markdown",
   "metadata": {},
   "source": [
    "##### Derviatives"
   ]
  },
  {
   "cell_type": "code",
   "execution_count": 7,
   "metadata": {},
   "outputs": [],
   "source": [
    "def activ_derv(X, activation):\n",
    "    if activation == 1:\n",
    "        return sigmoid(X) * (1 - sigmoid(X))\n",
    "    else:\n",
    "        return 1 - np.tanh(X)**2"
   ]
  },
  {
   "cell_type": "markdown",
   "metadata": {},
   "source": [
    "##### Back Propagation"
   ]
  },
  {
   "cell_type": "code",
   "execution_count": 8,
   "metadata": {},
   "outputs": [],
   "source": [
    "def back_propagation(weights, t, y, Z_s, activation, layers):\n",
    "    error_out = (t - y) * activ_derv(Z_s[layers], activation)\n",
    "    error_h = np.array()\n",
    "    \n",
    "    for i in range(1, layers):\n",
    "        error = activ_derv(Z_s[i], activation) * np.dot(weights, error_h)\n",
    "        np.append(error_h, error)\n",
    "        \n",
    "    return error_out, error_h\n"
   ]
  },
  {
   "cell_type": "markdown",
   "metadata": {},
   "source": [
    "##### Update weights"
   ]
  },
  {
   "cell_type": "code",
   "execution_count": 9,
   "metadata": {},
   "outputs": [],
   "source": [
    "def update_weights(weights,bias , error_out, error_h, lr, x, layers):\n",
    "    dwh = lr * error_h * x\n",
    "    dwy = lr * error_out\n",
    "    dbh = lr * error_h\n",
    "    \n",
    "    weights[layers] -= dwy\n",
    "    weights[:layers] -= dwh\n",
    "    bias[:] -= dbh\n",
    "    return weights ,bias"
   ]
  },
  {
   "cell_type": "markdown",
   "metadata": {},
   "source": [
    "##### Train_weights\n",
    "forward for hidden layers -> output layer -> backpropagation \n",
    "in range epochs \n",
    "    forward propagation for each layer -> calculate z and a \n",
    "    backward step -> calculate derivatives \n",
    "    update weights \n"
   ]
  },
  {
   "cell_type": "code",
   "execution_count": null,
   "metadata": {},
   "outputs": [],
   "source": [
    "def train_weight(weights, bias, X, t, activation, layers ,epochs, lr):\n",
    "    # if weights not init do it \n",
    "    for i in range(epochs):\n",
    "        for k in range(X.shape[0]):\n",
    "            y,A_s,Z_s= forward_propagation(weights, bias, X, activation, layers)\n",
    "            error_out, error_h = back_propagation(weights, t, y, Z_s, A_s)\n",
    "            weights, bias = update_weights(weights, bias, error_out, error_h , lr, X)\n",
    "            \n",
    "    return weights ,bias \n",
    "        "
   ]
  },
  {
   "cell_type": "code",
   "execution_count": null,
   "metadata": {},
   "outputs": [],
   "source": [
    "print(\"hello\")"
   ]
  },
  {
   "cell_type": "markdown",
   "metadata": {},
   "source": [
    "##### GUI"
   ]
  },
  {
   "cell_type": "code",
   "execution_count": 10,
   "metadata": {},
   "outputs": [],
   "source": [
    "########## GUI\n",
    "# initializing window\n",
    "root = Tk()\n",
    "\n",
    "# window size and title\n",
    "root.geometry(\"360x270\")\n",
    "root.title(\"Penguins\")\n",
    "\n",
    "\n",
    "# initializing labels of NN info\n",
    "l1 = Label(root, text=\"Number of hidden layers\")\n",
    "l2 = Label(root, text=\"No. of neurons in each layer\")\n",
    "\n",
    "# placing labels of NN info\n",
    "l1.place(x=20, y=15)\n",
    "l2.place(x=200, y=15)\n",
    "\n",
    "# initializing NN info textboxes\n",
    "no_of_layers_txt = Entry(root)\n",
    "no_of_neurons_txt = Entry(root)\n",
    "\n",
    "# placing NN info textboxes\n",
    "no_of_layers_txt.place(x=20, y=35)\n",
    "no_of_neurons_txt.place(x=200, y=35)\n",
    "\n",
    "# initializing labels of textboxes\n",
    "l_eta = Label(root, text=\"Learning rate\")\n",
    "l_m = Label(root, text=\"Number of epochs\")\n",
    "\n",
    "# placing labels of textboxes\n",
    "l_eta.place(x=20, y=65)\n",
    "l_m.place(x=200, y=65)\n",
    "\n",
    "# initializing textboxes\n",
    "eta_txt = Entry(root)\n",
    "m_txt = Entry(root)\n",
    "\n",
    "# placing textboxes\n",
    "eta_txt.place(x=20, y=85)\n",
    "m_txt.place(x=200, y=85)\n",
    "\n",
    "# creating bias checkbox\n",
    "b_var = IntVar()\n",
    "bias_ck = Checkbutton(root, text=\"Add bias\", variable=b_var)\n",
    "bias_ck.place(x=140, y=195)\n",
    "\n",
    "# activation fn radio button\n",
    "ac_fn_indx = IntVar()\n",
    "sigmoid_rb = Radiobutton(root, text=\"Sigmoid activation function\", variable=ac_fn_indx, value=1)\n",
    "tan_rb = Radiobutton(root, text=\"Hyperbolic Tangent activation function\", variable=ac_fn_indx, value=2)\n",
    "\n",
    "l_ac = Label(root, text=\"Choose activation function\")\n",
    "l_ac.place(x=20, y=115)\n",
    "\n",
    "sigmoid_rb.place(x=20, y=135)\n",
    "tan_rb.place(x=20, y=155)\n",
    "\n",
    "# Submitting function\n",
    "def submit_clk():\n",
    "    eta = float(eta_txt.get())\n",
    "    m = int(m_txt.get())\n",
    "    no_of_layers = int(no_of_layers_txt.get())\n",
    "    no_of_neurons = int(no_of_neurons_txt.get())\n",
    "    b = np.zeros((1, 1))\n",
    "    bb = b_var.get()\n",
    "\n",
    "    if bb == 1:\n",
    "        b = np.random.rand(1, 1)\n",
    "\n",
    "    accuracy = 0 # neural_network(c1, c2, f1, f2, eta, m, b, ths)\n",
    "    messagebox.showinfo(\"Result\", \"The accuracy is \" + str(accuracy))\n",
    "\n",
    "\n",
    "# initalizing and placing submit button\n",
    "submit = Button(root, text=\"Submit\", width=20, command=submit_clk)\n",
    "submit.place(x=110, y=220)\n",
    "\n",
    "root.mainloop()"
   ]
  }
 ],
 "metadata": {
  "kernelspec": {
   "display_name": "Python 3.10.2 64-bit",
   "language": "python",
   "name": "python3"
  },
  "language_info": {
   "codemirror_mode": {
    "name": "ipython",
    "version": 3
   },
   "file_extension": ".py",
   "mimetype": "text/x-python",
   "name": "python",
   "nbconvert_exporter": "python",
   "pygments_lexer": "ipython3",
   "version": "3.10.2"
  },
  "orig_nbformat": 4,
  "vscode": {
   "interpreter": {
    "hash": "2a84117198f95228c95ff852d6cb93948e845ef17bcb417fce12ebca030ee04a"
   }
  }
 },
 "nbformat": 4,
 "nbformat_minor": 2
}
