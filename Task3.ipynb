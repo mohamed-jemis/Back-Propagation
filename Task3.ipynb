{
 "cells": [
  {
   "cell_type": "markdown",
   "metadata": {},
   "source": [
    "<h2 align=\"center\"> Task 3 </h2>"
   ]
  },
  {
   "cell_type": "markdown",
   "metadata": {},
   "source": [
    "##### Imports"
   ]
  },
  {
   "cell_type": "code",
   "execution_count": 167,
   "metadata": {},
   "outputs": [],
   "source": [
    "from tkinter import Tk\n",
    "from tkinter import ttk\n",
    "from tkinter import messagebox\n",
    "from tkinter import *\n",
    "import numpy as np\n",
    "import pandas as pd\n",
    "from sklearn.preprocessing import OrdinalEncoder\n",
    "from sklearn.model_selection import train_test_split\n",
    "from sklearn.preprocessing import MinMaxScaler\n",
    "from sklearn import svm\n",
    "import matplotlib.pyplot as plt"
   ]
  },
  {
   "cell_type": "markdown",
   "metadata": {},
   "source": [
    "##### Preprocessing"
   ]
  },
  {
   "cell_type": "code",
   "execution_count": 168,
   "metadata": {},
   "outputs": [],
   "source": [
    "def preprocess():\n",
    "    penguins_df = pd.read_csv('penguins.csv')\n",
    "\n",
    "    # changing data types from object to category\n",
    "    penguins_df[\"gender\"] = penguins_df[\"gender\"].astype('category')\n",
    "    penguins_df[\"species\"] = penguins_df[\"species\"].astype('category')\n",
    "\n",
    "    # encoding categorical data\n",
    "    enc = OrdinalEncoder()\n",
    "    penguins_df[\"gender_cat\"] = enc.fit_transform(penguins_df[[\"gender\"]])\n",
    "    penguins_df[\"species_cat\"] = enc.fit_transform(penguins_df[[\"species\"]])\n",
    "\n",
    "    # dropping unused columns\n",
    "    penguins_df.drop(\"gender\", inplace=True, axis=1)\n",
    "    # penguins_df.drop(\"species\", inplace=True, axis=1)\n",
    "\n",
    "    # filling gender na\n",
    "    penguins_df = penguins_df.apply(lambda x: x.fillna(x.value_counts().index[0]))\n",
    "\n",
    "    # Scaling numerical features\n",
    "    scaler = MinMaxScaler()\n",
    "    penguins_df[[\"bill_length_mm\", \"bill_depth_mm\", \"flipper_length_mm\", \"body_mass_g\"]] = scaler.fit_transform(\n",
    "        penguins_df[[\"bill_length_mm\", \"bill_depth_mm\", \"flipper_length_mm\", \"body_mass_g\"]])\n",
    "\n",
    "    penguins_df_groups = penguins_df.groupby(\"species\", group_keys=False)\n",
    "    groups = penguins_df_groups.groups.keys()\n",
    "\n",
    "    # Splitting data to train and test\n",
    "    train_data, test_data = [], []\n",
    "\n",
    "    for group in groups:\n",
    "        curr_group = np.array(penguins_df_groups.get_group(group))\n",
    "        train_data.append(curr_group[:30, 1:])\n",
    "        test_data.append(curr_group[30:, 1:])\n",
    "\n",
    "    train_data = np.array(train_data)\n",
    "    test_data = np.array(test_data)\n",
    "\n",
    "    np.random.shuffle(train_data)\n",
    "    np.random.shuffle(test_data)\n",
    "\n",
    "    X_train = train_data[:, :-1]\n",
    "    Y_train = train_data[:, -1]\n",
    "\n",
    "    X_test = test_data[:, :-1]\n",
    "    Y_test = test_data[:, -1]\n",
    "\n",
    "    return X_train, Y_train, X_test, Y_test\n",
    "\n"
   ]
  },
  {
   "cell_type": "markdown",
   "metadata": {},
   "source": [
    "##### Initialize Weights and Biases "
   ]
  },
  {
   "cell_type": "code",
   "execution_count": 169,
   "metadata": {},
   "outputs": [],
   "source": [
    "def init_weights(features, neurons, layers, classes):\n",
    "    weights_in = np.random.rand(neurons, features)\n",
    "    weights_of_hidden = np.random.rand(neurons,neurons, layers-1)\n",
    "    weights_out = np.random.rand(classes, neurons)\n",
    "\n",
    "    weights = []\n",
    "\n",
    "    weights.append(weights_in)\n",
    "    weights.append(weights_of_hidden)\n",
    "    weights.append(weights_out)\n",
    "\n",
    "    bias = np.random.rand(neurons, 1, layers)\n",
    "    bias_out = np.random.rand(classes, 1)\n",
    "    np.append(bias, bias_out)\n",
    "\n",
    "    return weights, bias"
   ]
  },
  {
   "cell_type": "markdown",
   "metadata": {},
   "source": [
    "##### Sigmoid activation function"
   ]
  },
  {
   "cell_type": "code",
   "execution_count": 170,
   "metadata": {},
   "outputs": [],
   "source": [
    "def sigmoid(X):\n",
    "    X = X.astype(float)\n",
    "    return 1/1+np.exp(-X)"
   ]
  },
  {
   "cell_type": "markdown",
   "metadata": {},
   "source": [
    "##### Forward Step"
   ]
  },
  {
   "cell_type": "code",
   "execution_count": 171,
   "metadata": {},
   "outputs": [],
   "source": [
    "def forward_step(weights, bias, X, activation):\n",
    "    Z = weights.dot(X) + bias\n",
    "    if activation == 1:\n",
    "        return sigmoid(Z), Z \n",
    "    else :\n",
    "        return np.tanh(Z), Z"
   ]
  },
  {
   "cell_type": "markdown",
   "metadata": {},
   "source": [
    "##### Forward propagation"
   ]
  },
  {
   "cell_type": "code",
   "execution_count": 172,
   "metadata": {},
   "outputs": [],
   "source": [
    "def forward_propagation(weights, bias, x, activation, layers):\n",
    "    A, Z = forward_step(weights[0], bias, x, activation)\n",
    "    A_s, Z_s = [], []\n",
    "    A_prev = A\n",
    "\n",
    "    A_s.append(A_prev)\n",
    "    Z_s.append(Z)\n",
    "\n",
    "    for i in range(1, layers):\n",
    "        print(i)\n",
    "        A_prev = A\n",
    "        A, Z = forward_step(weights[i], bias[i], A_prev, activation)\n",
    "        A_s.append(A)\n",
    "        Z_s.append(Z)\n",
    "\n",
    "    y, Z = forward_step(weights[layers], bias[layers], A, activation)\n",
    "    Z_s.append(Z)\n",
    "\n",
    "    Z_s = np.array(Z_s)\n",
    "    A_s = np.array(A_s)\n",
    "     \n",
    "    return y, A_s, Z_s"
   ]
  },
  {
   "cell_type": "markdown",
   "metadata": {},
   "source": [
    "##### Derviatives"
   ]
  },
  {
   "cell_type": "code",
   "execution_count": 173,
   "metadata": {},
   "outputs": [],
   "source": [
    "def activ_derv(X, activation):\n",
    "    if activation == 1:\n",
    "        return sigmoid(X) * (1 - sigmoid(X))\n",
    "    else:\n",
    "        return 1 - np.tanh(X)**2"
   ]
  },
  {
   "cell_type": "markdown",
   "metadata": {},
   "source": [
    "##### Back Propagation"
   ]
  },
  {
   "cell_type": "code",
   "execution_count": 174,
   "metadata": {},
   "outputs": [],
   "source": [
    "def back_propagation(weights, t, y, Z_s, activation, layers):\n",
    "    error_out = (t - y) * activ_derv(Z_s[layers], activation)\n",
    "    error_h = []\n",
    "    \n",
    "    for i in range(1, layers):\n",
    "        error = activ_derv(Z_s[i], activation) * np.dot(weights, error_h)\n",
    "        error_h.append(error)\n",
    "\n",
    "    error_h = np.array(error_h)\n",
    "        \n",
    "    return error_out, error_h\n"
   ]
  },
  {
   "cell_type": "markdown",
   "metadata": {},
   "source": [
    "##### Update weights"
   ]
  },
  {
   "cell_type": "code",
   "execution_count": 175,
   "metadata": {},
   "outputs": [],
   "source": [
    "def update_weights(weights,bias , error_out, error_h, lr, x, layers):\n",
    "    dwh = lr * error_h * x\n",
    "    dwy = lr * error_out\n",
    "    dbh = lr * error_h\n",
    "    \n",
    "    weights[layers] -= dwy\n",
    "    weights[:layers] -= dwh\n",
    "    bias[:] -= dbh\n",
    "    return weights ,bias"
   ]
  },
  {
   "cell_type": "markdown",
   "metadata": {},
   "source": [
    "##### Train_weights\n",
    "forward for hidden layers -> output layer -> backpropagation \n",
    "in range epochs \n",
    "    forward propagation for each layer -> calculate z and a \n",
    "    backward step -> calculate derivatives \n",
    "    update weights \n"
   ]
  },
  {
   "cell_type": "code",
   "execution_count": 176,
   "metadata": {},
   "outputs": [],
   "source": [
    "def train_weight(weights, bias, X, t, activation, layers ,epochs, lr):\n",
    "    # if weights not init do it \n",
    "    for i in range(epochs):\n",
    "        for k in range(X.shape[0]):\n",
    "            y,A_s,Z_s = forward_propagation(weights, bias, X, activation, layers)\n",
    "            error_out, error_h = back_propagation(weights, t, y, Z_s, A_s)\n",
    "            weights, bias = update_weights(weights, bias, error_out, error_h , lr, X)\n",
    "\n",
    "    return weights ,bias \n",
    "        "
   ]
  },
  {
   "cell_type": "markdown",
   "metadata": {},
   "source": [
    "##### Test Weights"
   ]
  },
  {
   "cell_type": "code",
   "execution_count": 177,
   "metadata": {},
   "outputs": [],
   "source": [
    "def test(weights, bias, X_test, Y_test, activation, layers, classes):\n",
    "    y, A_s, Z_s = forward_propagation(weights, bias, X_test, activation, layers)\n",
    "    confusion_matrix = np.zeros((classes, classes))\n",
    "    correct = 0\n",
    "\n",
    "    for i in range(Y_test.shape[0]):\n",
    "        max_indx = np.argmax(y, axis=1)\n",
    "\n",
    "        # y[np.argmax(y, axis=1)] = 1\n",
    "        # y[~max_indx] = 0\n",
    "\n",
    "        if max_indx + 1 == Y_test:\n",
    "            confusion_matrix[max_indx, max_indx] += 1\n",
    "        else:\n",
    "            confusion_matrix[max_indx, Y_test - 1] += 1\n",
    "        \n",
    "    for i in range(classes):\n",
    "        correct += confusion_matrix[i, i]\n",
    "\n",
    "    accuracy = correct * 100 / Y_test.shape[0]\n",
    "\n",
    "    return accuracy, confusion_matrix"
   ]
  },
  {
   "cell_type": "markdown",
   "metadata": {},
   "source": [
    "##### Model"
   ]
  },
  {
   "cell_type": "code",
   "execution_count": 178,
   "metadata": {},
   "outputs": [],
   "source": [
    "def neural_network(neurons, layers, classes, activation, epochs, lr):\n",
    "    X_train, Y_train, X_test, Y_test = preprocess()\n",
    "    features = X_train.shape[1]\n",
    "    weights, bias = init_weights(features, neurons, layers, classes)\n",
    "    weights, bias = train_weight(weights, bias, X_train, Y_train, activation, layers, epochs, lr)\n",
    "    accuracy, confusion_matrix = test(weights, bias, X_test, Y_test, activation, layers, classes)\n",
    "\n",
    "    return accuracy, confusion_matrix\n"
   ]
  },
  {
   "cell_type": "markdown",
   "metadata": {},
   "source": [
    "##### GUI"
   ]
  },
  {
   "cell_type": "code",
   "execution_count": 179,
   "metadata": {},
   "outputs": [
    {
     "name": "stderr",
     "output_type": "stream",
     "text": [
      "Exception in Tkinter callback\n",
      "Traceback (most recent call last):\n",
      "  File \"d:\\Program Files\\Python\\Python38-32\\lib\\tkinter\\__init__.py\", line 1883, in __call__\n",
      "    return self.func(*args)\n",
      "  File \"C:\\Users\\laila\\AppData\\Local\\Temp\\ipykernel_6684\\466730640.py\", line 71, in submit_clk\n",
      "    accuracy, confusion_matrix = neural_network(no_of_neurons, no_of_layers, 3, activation, m, eta)\n",
      "  File \"C:\\Users\\laila\\AppData\\Local\\Temp\\ipykernel_6684\\3362637879.py\", line 5, in neural_network\n",
      "    weights, bias = train_weight(weights, bias, X_train, Y_train, activation, layers, epochs, lr)\n",
      "  File \"C:\\Users\\laila\\AppData\\Local\\Temp\\ipykernel_6684\\1497458005.py\", line 5, in train_weight\n",
      "    y,A_s,Z_s = forward_propagation(weights, bias, X, activation, layers)\n",
      "  File \"C:\\Users\\laila\\AppData\\Local\\Temp\\ipykernel_6684\\2255568043.py\", line 2, in forward_propagation\n",
      "    A, Z = forward_step(weights[0], bias, x, activation)\n",
      "  File \"C:\\Users\\laila\\AppData\\Local\\Temp\\ipykernel_6684\\1700159585.py\", line 2, in forward_step\n",
      "    Z = weights.dot(X) + bias\n",
      "ValueError: shapes (29,3) and (3,29,6) not aligned: 3 (dim 1) != 29 (dim 1)\n"
     ]
    }
   ],
   "source": [
    "########## GUI\n",
    "# initializing window\n",
    "root = Tk()\n",
    "\n",
    "# window size and title\n",
    "root.geometry(\"360x270\")\n",
    "root.title(\"Penguins\")\n",
    "\n",
    "\n",
    "# initializing labels of NN info\n",
    "l1 = Label(root, text=\"Number of hidden layers\")\n",
    "l2 = Label(root, text=\"No. of neurons in each layer\")\n",
    "\n",
    "# placing labels of NN info\n",
    "l1.place(x=20, y=15)\n",
    "l2.place(x=200, y=15)\n",
    "\n",
    "# initializing NN info textboxes\n",
    "no_of_layers_txt = Entry(root)\n",
    "no_of_neurons_txt = Entry(root)\n",
    "\n",
    "# placing NN info textboxes\n",
    "no_of_layers_txt.place(x=20, y=35)\n",
    "no_of_neurons_txt.place(x=200, y=35)\n",
    "\n",
    "# initializing labels of textboxes\n",
    "l_eta = Label(root, text=\"Learning rate\")\n",
    "l_m = Label(root, text=\"Number of epochs\")\n",
    "\n",
    "# placing labels of textboxes\n",
    "l_eta.place(x=20, y=65)\n",
    "l_m.place(x=200, y=65)\n",
    "\n",
    "# initializing textboxes\n",
    "eta_txt = Entry(root)\n",
    "m_txt = Entry(root)\n",
    "\n",
    "# placing textboxes\n",
    "eta_txt.place(x=20, y=85)\n",
    "m_txt.place(x=200, y=85)\n",
    "\n",
    "# creating bias checkbox\n",
    "b_var = IntVar()\n",
    "bias_ck = Checkbutton(root, text=\"Add bias\", variable=b_var)\n",
    "bias_ck.place(x=140, y=195)\n",
    "\n",
    "# activation fn radio button\n",
    "ac_fn_indx = IntVar()\n",
    "sigmoid_rb = Radiobutton(root, text=\"Sigmoid activation function\", variable=ac_fn_indx, value=1)\n",
    "tan_rb = Radiobutton(root, text=\"Hyperbolic Tangent activation function\", variable=ac_fn_indx, value=2)\n",
    "\n",
    "l_ac = Label(root, text=\"Choose activation function\")\n",
    "l_ac.place(x=20, y=115)\n",
    "\n",
    "sigmoid_rb.place(x=20, y=135)\n",
    "tan_rb.place(x=20, y=155)\n",
    "\n",
    "# Submitting function\n",
    "def submit_clk():\n",
    "    eta = float(eta_txt.get())\n",
    "    m = int(m_txt.get())\n",
    "    no_of_layers = int(no_of_layers_txt.get())\n",
    "    no_of_neurons = int(no_of_neurons_txt.get())\n",
    "    b = np.zeros((1, 1))\n",
    "    bb = b_var.get()\n",
    "    activation = ac_fn_indx.get()\n",
    "\n",
    "    if bb == 1:\n",
    "        b = np.random.rand(1, 1)\n",
    "\n",
    "    accuracy, confusion_matrix = neural_network(no_of_neurons, no_of_layers, 3, activation, m, eta)\n",
    "    messagebox.showinfo(\"Result\", \"The accuracy is \" + str(accuracy))\n",
    "\n",
    "\n",
    "# initalizing and placing submit button\n",
    "submit = Button(root, text=\"Submit\", width=20, command=submit_clk)\n",
    "submit.place(x=110, y=220)\n",
    "\n",
    "root.mainloop()"
   ]
  }
 ],
 "metadata": {
  "kernelspec": {
   "display_name": "Python 3.8.3 32-bit (system)",
   "language": "python",
   "name": "python3"
  },
  "language_info": {
   "codemirror_mode": {
    "name": "ipython",
    "version": 3
   },
   "file_extension": ".py",
   "mimetype": "text/x-python",
   "name": "python",
   "nbconvert_exporter": "python",
   "pygments_lexer": "ipython3",
   "version": "3.8.3"
  },
  "orig_nbformat": 4,
  "vscode": {
   "interpreter": {
    "hash": "bdad196243c040bf54876d2c9314393eab074b4eca3f29addf1f0632e42502d9"
   }
  }
 },
 "nbformat": 4,
 "nbformat_minor": 2
}
